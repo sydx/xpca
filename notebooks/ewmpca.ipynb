{
 "cells": [
  {
   "cell_type": "markdown",
   "id": "b405de28",
   "metadata": {},
   "source": [
    "# Exponentially weighted moving PCA"
   ]
  },
  {
   "cell_type": "code",
   "execution_count": 1,
   "id": "1134b7c2",
   "metadata": {},
   "outputs": [],
   "source": [
    "import os, sys\n",
    "sys.path.append(os.path.abspath('../src'))"
   ]
  },
  {
   "cell_type": "code",
   "execution_count": 2,
   "id": "03ce5ba9",
   "metadata": {},
   "outputs": [],
   "source": [
    "import matplotlib.pyplot as plt\n",
    "import numpy as np\n",
    "import pandas as pd\n",
    "import seaborn as sns\n",
    "import sklearn.decomposition"
   ]
  },
  {
   "cell_type": "code",
   "execution_count": 3,
   "id": "bf0ca911",
   "metadata": {},
   "outputs": [],
   "source": [
    "import xpca"
   ]
  },
  {
   "cell_type": "code",
   "execution_count": 4,
   "id": "55600938",
   "metadata": {},
   "outputs": [],
   "source": [
    "first_year = 2008; last_year = 2020"
   ]
  },
  {
   "cell_type": "code",
   "execution_count": 5,
   "id": "b4c2ea44",
   "metadata": {},
   "outputs": [],
   "source": [
    "df = pd.read_parquet('../data/equity_indices.parquet')"
   ]
  },
  {
   "cell_type": "code",
   "execution_count": 6,
   "id": "55211fcf",
   "metadata": {},
   "outputs": [],
   "source": [
    "df = df[str(first_year):str(last_year)]"
   ]
  },
  {
   "cell_type": "code",
   "execution_count": 7,
   "id": "11072ef5",
   "metadata": {},
   "outputs": [
    {
     "data": {
      "text/html": [
       "<div>\n",
       "<style scoped>\n",
       "    .dataframe tbody tr th:only-of-type {\n",
       "        vertical-align: middle;\n",
       "    }\n",
       "\n",
       "    .dataframe tbody tr th {\n",
       "        vertical-align: top;\n",
       "    }\n",
       "\n",
       "    .dataframe thead th {\n",
       "        text-align: right;\n",
       "    }\n",
       "</style>\n",
       "<table border=\"1\" class=\"dataframe\">\n",
       "  <thead>\n",
       "    <tr style=\"text-align: right;\">\n",
       "      <th></th>\n",
       "      <th>DY</th>\n",
       "      <th>ES</th>\n",
       "      <th>EW</th>\n",
       "      <th>FX</th>\n",
       "      <th>MX</th>\n",
       "      <th>NQ</th>\n",
       "      <th>RTY</th>\n",
       "      <th>X</th>\n",
       "      <th>YM</th>\n",
       "    </tr>\n",
       "    <tr>\n",
       "      <th>Datetime</th>\n",
       "      <th></th>\n",
       "      <th></th>\n",
       "      <th></th>\n",
       "      <th></th>\n",
       "      <th></th>\n",
       "      <th></th>\n",
       "      <th></th>\n",
       "      <th></th>\n",
       "      <th></th>\n",
       "    </tr>\n",
       "  </thead>\n",
       "  <tbody>\n",
       "    <tr>\n",
       "      <th>2008-01-01 19:00:00</th>\n",
       "      <td>0.0</td>\n",
       "      <td>0.0</td>\n",
       "      <td>0.0</td>\n",
       "      <td>0.0</td>\n",
       "      <td>0.0</td>\n",
       "      <td>0.0</td>\n",
       "      <td>0.0</td>\n",
       "      <td>0.0</td>\n",
       "      <td>0.001823</td>\n",
       "    </tr>\n",
       "    <tr>\n",
       "      <th>2008-01-01 20:00:00</th>\n",
       "      <td>0.0</td>\n",
       "      <td>0.0</td>\n",
       "      <td>0.0</td>\n",
       "      <td>0.0</td>\n",
       "      <td>0.0</td>\n",
       "      <td>0.0</td>\n",
       "      <td>0.0</td>\n",
       "      <td>0.0</td>\n",
       "      <td>-0.000383</td>\n",
       "    </tr>\n",
       "    <tr>\n",
       "      <th>2008-01-01 21:00:00</th>\n",
       "      <td>0.0</td>\n",
       "      <td>0.0</td>\n",
       "      <td>0.0</td>\n",
       "      <td>0.0</td>\n",
       "      <td>0.0</td>\n",
       "      <td>0.0</td>\n",
       "      <td>0.0</td>\n",
       "      <td>0.0</td>\n",
       "      <td>0.000671</td>\n",
       "    </tr>\n",
       "    <tr>\n",
       "      <th>2008-01-01 22:00:00</th>\n",
       "      <td>0.0</td>\n",
       "      <td>0.0</td>\n",
       "      <td>0.0</td>\n",
       "      <td>0.0</td>\n",
       "      <td>0.0</td>\n",
       "      <td>0.0</td>\n",
       "      <td>0.0</td>\n",
       "      <td>0.0</td>\n",
       "      <td>-0.000862</td>\n",
       "    </tr>\n",
       "    <tr>\n",
       "      <th>2008-01-01 23:00:00</th>\n",
       "      <td>0.0</td>\n",
       "      <td>0.0</td>\n",
       "      <td>0.0</td>\n",
       "      <td>0.0</td>\n",
       "      <td>0.0</td>\n",
       "      <td>0.0</td>\n",
       "      <td>0.0</td>\n",
       "      <td>0.0</td>\n",
       "      <td>-0.001821</td>\n",
       "    </tr>\n",
       "  </tbody>\n",
       "</table>\n",
       "</div>"
      ],
      "text/plain": [
       "                      DY   ES   EW   FX   MX   NQ  RTY    X        YM\n",
       "Datetime                                                             \n",
       "2008-01-01 19:00:00  0.0  0.0  0.0  0.0  0.0  0.0  0.0  0.0  0.001823\n",
       "2008-01-01 20:00:00  0.0  0.0  0.0  0.0  0.0  0.0  0.0  0.0 -0.000383\n",
       "2008-01-01 21:00:00  0.0  0.0  0.0  0.0  0.0  0.0  0.0  0.0  0.000671\n",
       "2008-01-01 22:00:00  0.0  0.0  0.0  0.0  0.0  0.0  0.0  0.0 -0.000862\n",
       "2008-01-01 23:00:00  0.0  0.0  0.0  0.0  0.0  0.0  0.0  0.0 -0.001821"
      ]
     },
     "execution_count": 7,
     "metadata": {},
     "output_type": "execute_result"
    }
   ],
   "source": [
    "df.head()"
   ]
  },
  {
   "cell_type": "code",
   "execution_count": 8,
   "id": "758cf119",
   "metadata": {},
   "outputs": [
    {
     "data": {
      "text/html": [
       "<div>\n",
       "<style scoped>\n",
       "    .dataframe tbody tr th:only-of-type {\n",
       "        vertical-align: middle;\n",
       "    }\n",
       "\n",
       "    .dataframe tbody tr th {\n",
       "        vertical-align: top;\n",
       "    }\n",
       "\n",
       "    .dataframe thead th {\n",
       "        text-align: right;\n",
       "    }\n",
       "</style>\n",
       "<table border=\"1\" class=\"dataframe\">\n",
       "  <thead>\n",
       "    <tr style=\"text-align: right;\">\n",
       "      <th></th>\n",
       "      <th>DY</th>\n",
       "      <th>ES</th>\n",
       "      <th>EW</th>\n",
       "      <th>FX</th>\n",
       "      <th>MX</th>\n",
       "      <th>NQ</th>\n",
       "      <th>RTY</th>\n",
       "      <th>X</th>\n",
       "      <th>YM</th>\n",
       "    </tr>\n",
       "    <tr>\n",
       "      <th>Datetime</th>\n",
       "      <th></th>\n",
       "      <th></th>\n",
       "      <th></th>\n",
       "      <th></th>\n",
       "      <th></th>\n",
       "      <th></th>\n",
       "      <th></th>\n",
       "      <th></th>\n",
       "      <th></th>\n",
       "    </tr>\n",
       "  </thead>\n",
       "  <tbody>\n",
       "    <tr>\n",
       "      <th>2020-12-31 12:00:00</th>\n",
       "      <td>0.0</td>\n",
       "      <td>0.001415</td>\n",
       "      <td>0.001830</td>\n",
       "      <td>0.0</td>\n",
       "      <td>0.0</td>\n",
       "      <td>0.001778</td>\n",
       "      <td>0.000304</td>\n",
       "      <td>0.0</td>\n",
       "      <td>0.001128</td>\n",
       "    </tr>\n",
       "    <tr>\n",
       "      <th>2020-12-31 13:00:00</th>\n",
       "      <td>0.0</td>\n",
       "      <td>-0.000336</td>\n",
       "      <td>-0.000652</td>\n",
       "      <td>0.0</td>\n",
       "      <td>0.0</td>\n",
       "      <td>-0.000702</td>\n",
       "      <td>-0.000609</td>\n",
       "      <td>0.0</td>\n",
       "      <td>-0.000398</td>\n",
       "    </tr>\n",
       "    <tr>\n",
       "      <th>2020-12-31 14:00:00</th>\n",
       "      <td>0.0</td>\n",
       "      <td>0.002895</td>\n",
       "      <td>0.002132</td>\n",
       "      <td>0.0</td>\n",
       "      <td>0.0</td>\n",
       "      <td>0.002030</td>\n",
       "      <td>0.001827</td>\n",
       "      <td>0.0</td>\n",
       "      <td>0.003115</td>\n",
       "    </tr>\n",
       "    <tr>\n",
       "      <th>2020-12-31 15:00:00</th>\n",
       "      <td>0.0</td>\n",
       "      <td>0.002819</td>\n",
       "      <td>-0.002171</td>\n",
       "      <td>0.0</td>\n",
       "      <td>0.0</td>\n",
       "      <td>0.002182</td>\n",
       "      <td>-0.001216</td>\n",
       "      <td>0.0</td>\n",
       "      <td>0.002941</td>\n",
       "    </tr>\n",
       "    <tr>\n",
       "      <th>2020-12-31 16:00:00</th>\n",
       "      <td>0.0</td>\n",
       "      <td>0.001138</td>\n",
       "      <td>0.002785</td>\n",
       "      <td>0.0</td>\n",
       "      <td>0.0</td>\n",
       "      <td>0.001030</td>\n",
       "      <td>0.002080</td>\n",
       "      <td>0.0</td>\n",
       "      <td>0.000461</td>\n",
       "    </tr>\n",
       "  </tbody>\n",
       "</table>\n",
       "</div>"
      ],
      "text/plain": [
       "                      DY        ES        EW   FX   MX        NQ       RTY  \\\n",
       "Datetime                                                                     \n",
       "2020-12-31 12:00:00  0.0  0.001415  0.001830  0.0  0.0  0.001778  0.000304   \n",
       "2020-12-31 13:00:00  0.0 -0.000336 -0.000652  0.0  0.0 -0.000702 -0.000609   \n",
       "2020-12-31 14:00:00  0.0  0.002895  0.002132  0.0  0.0  0.002030  0.001827   \n",
       "2020-12-31 15:00:00  0.0  0.002819 -0.002171  0.0  0.0  0.002182 -0.001216   \n",
       "2020-12-31 16:00:00  0.0  0.001138  0.002785  0.0  0.0  0.001030  0.002080   \n",
       "\n",
       "                       X        YM  \n",
       "Datetime                            \n",
       "2020-12-31 12:00:00  0.0  0.001128  \n",
       "2020-12-31 13:00:00  0.0 -0.000398  \n",
       "2020-12-31 14:00:00  0.0  0.003115  \n",
       "2020-12-31 15:00:00  0.0  0.002941  \n",
       "2020-12-31 16:00:00  0.0  0.000461  "
      ]
     },
     "execution_count": 8,
     "metadata": {},
     "output_type": "execute_result"
    }
   ],
   "source": [
    "df.tail()"
   ]
  },
  {
   "cell_type": "code",
   "execution_count": 9,
   "id": "3b2c6424",
   "metadata": {},
   "outputs": [],
   "source": [
    "xs = df.values"
   ]
  },
  {
   "cell_type": "code",
   "execution_count": 10,
   "id": "3d41dc03",
   "metadata": {},
   "outputs": [],
   "source": [
    "classical_pca = sklearn.decomposition.PCA()"
   ]
  },
  {
   "cell_type": "code",
   "execution_count": 11,
   "id": "a43dcbfe",
   "metadata": {},
   "outputs": [
    {
     "data": {
      "text/plain": [
       "PCA()"
      ]
     },
     "execution_count": 11,
     "metadata": {},
     "output_type": "execute_result"
    }
   ],
   "source": [
    "classical_pca.fit(xs)"
   ]
  },
  {
   "cell_type": "code",
   "execution_count": 12,
   "id": "5b5d9b30",
   "metadata": {},
   "outputs": [],
   "source": [
    "zs_classical = classical_pca.transform(xs)"
   ]
  },
  {
   "cell_type": "code",
   "execution_count": 13,
   "id": "a7f0e68c",
   "metadata": {},
   "outputs": [],
   "source": [
    "ewmpca = xpca.EWMPCA(alpha=.9305)"
   ]
  },
  {
   "cell_type": "code",
   "execution_count": 14,
   "id": "6e639200",
   "metadata": {},
   "outputs": [
    {
     "name": "stdout",
     "output_type": "stream",
     "text": [
      "Processing data point 1000\n",
      "Processing data point 2000\n",
      "Processing data point 3000\n",
      "Processing data point 4000\n",
      "Processing data point 5000\n",
      "Processing data point 6000\n",
      "Processing data point 7000\n",
      "Processing data point 8000\n",
      "Processing data point 9000\n",
      "Processing data point 10000\n",
      "Processing data point 11000\n",
      "Processing data point 12000\n",
      "Processing data point 13000\n",
      "Processing data point 14000\n",
      "Processing data point 15000\n",
      "Processing data point 16000\n",
      "Processing data point 17000\n",
      "Processing data point 18000\n",
      "Processing data point 19000\n",
      "Processing data point 20000\n",
      "Processing data point 21000\n",
      "Processing data point 22000\n",
      "Processing data point 23000\n",
      "Processing data point 24000\n",
      "Processing data point 25000\n",
      "Processing data point 26000\n",
      "Processing data point 27000\n",
      "Processing data point 28000\n",
      "Processing data point 29000\n",
      "Processing data point 30000\n",
      "Processing data point 31000\n",
      "Processing data point 32000\n",
      "Processing data point 33000\n",
      "Processing data point 34000\n",
      "Processing data point 35000\n",
      "Processing data point 36000\n",
      "Processing data point 37000\n",
      "Processing data point 38000\n",
      "Processing data point 39000\n",
      "Processing data point 40000\n",
      "Processing data point 41000\n",
      "Processing data point 42000\n",
      "Processing data point 43000\n",
      "Processing data point 44000\n",
      "Processing data point 45000\n",
      "Processing data point 46000\n",
      "Processing data point 47000\n",
      "Processing data point 48000\n",
      "Processing data point 49000\n",
      "Processing data point 50000\n",
      "Processing data point 51000\n",
      "Processing data point 52000\n",
      "Processing data point 53000\n",
      "Processing data point 54000\n",
      "Processing data point 55000\n",
      "Processing data point 56000\n",
      "Processing data point 57000\n",
      "Processing data point 58000\n",
      "Processing data point 59000\n",
      "Processing data point 60000\n",
      "Processing data point 61000\n",
      "Processing data point 62000\n",
      "Processing data point 63000\n",
      "Processing data point 64000\n",
      "Processing data point 65000\n",
      "Processing data point 66000\n",
      "Processing data point 67000\n",
      "Processing data point 68000\n",
      "Processing data point 69000\n",
      "Processing data point 70000\n",
      "Processing data point 71000\n",
      "Processing data point 72000\n",
      "Processing data point 73000\n",
      "Processing data point 74000\n",
      "Processing data point 75000\n",
      "Processing data point 76000\n",
      "Processing data point 77000\n",
      "Processing data point 78000\n",
      "Processing data point 79000\n"
     ]
    }
   ],
   "source": [
    "zs_ewmpca = ewmpca.add_all(xs)"
   ]
  },
  {
   "cell_type": "code",
   "execution_count": 15,
   "id": "587f0f44",
   "metadata": {},
   "outputs": [],
   "source": [
    "cross_cov = np.cov(zs_classical, zs_ewmpca, rowvar=False)"
   ]
  },
  {
   "cell_type": "code",
   "execution_count": 16,
   "id": "31d9937f",
   "metadata": {},
   "outputs": [],
   "source": [
    "ticklabels = [f'Classical PC{i+1}' for i in range(np.shape(zs_classical)[1])]\n",
    "ticklabels.extend([f'EWM PC{i+1}' for i in range(np.shape(zs_classical)[1])])"
   ]
  },
  {
   "cell_type": "code",
   "execution_count": 17,
   "id": "deb0a458",
   "metadata": {},
   "outputs": [],
   "source": [
    "def cov_to_cor(cov):\n",
    "    v = np.sqrt(np.diag(cov))\n",
    "    outer_v = np.outer(v, v)\n",
    "    cor = cov / outer_v\n",
    "    cor[cov == 0] = 0\n",
    "    return cor"
   ]
  },
  {
   "cell_type": "code",
   "execution_count": 18,
   "id": "a1f992ed",
   "metadata": {},
   "outputs": [],
   "source": [
    "cross_cor = cov_to_cor(cross_cov)"
   ]
  },
  {
   "cell_type": "code",
   "execution_count": 19,
   "id": "d516ba93",
   "metadata": {},
   "outputs": [
    {
     "data": {
      "image/png": "[encoded data removed]",
      "text/plain": [
       "<Figure size 864x432 with 4 Axes>"
      ]
     },
     "metadata": {
      "needs_background": "light"
     },
     "output_type": "display_data"
    }
   ],
   "source": [
    "fig = plt.figure(figsize=(12, 6))\n",
    "fig.add_subplot(121)\n",
    "ax = sns.heatmap(cross_cov, center=0., cmap='RdBu')\n",
    "ax.set_xticks(np.array(range(len(ticklabels))) + .5)\n",
    "ax.set_xticklabels(ticklabels)\n",
    "ax.set_yticks(np.array(range(len(ticklabels))) + .5)\n",
    "ax.set_yticklabels(ticklabels)\n",
    "ax.tick_params(axis='x', rotation=90)\n",
    "ax.tick_params(axis='y', rotation=0)\n",
    "ax.set_title('Crosscovariance')\n",
    "fig.add_subplot(122)\n",
    "ax = sns.heatmap(cross_cor, center=0., cmap='RdBu')\n",
    "ax.set_xticks(np.array(range(len(ticklabels))) + .5)\n",
    "ax.set_xticklabels(ticklabels)\n",
    "ax.set_yticks(np.array(range(len(ticklabels))) + .5)\n",
    "ax.set_yticklabels(ticklabels)\n",
    "ax.tick_params(axis='x', rotation=90)\n",
    "ax.tick_params(axis='y', rotation=0)\n",
    "ax.set_title('Crosscorrelation')\n",
    "fig.tight_layout();"
   ]
  }
 ],
 "metadata": {
  "kernelspec": {
   "display_name": "Python 3",
   "language": "python",
   "name": "python3"
  },
  "language_info": {
   "codemirror_mode": {
    "name": "ipython",
    "version": 3
   },
   "file_extension": ".py",
   "mimetype": "text/x-python",
   "name": "python",
   "nbconvert_exporter": "python",
   "pygments_lexer": "ipython3",
   "version": "3.8.8"
  }
 },
 "nbformat": 4,
 "nbformat_minor": 5
}
